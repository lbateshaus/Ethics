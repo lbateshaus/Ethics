{
 "cells": [
  {
   "cell_type": "code",
   "execution_count": null,
   "metadata": {
    "id": "k9dEYHrsb6b4"
   },
   "outputs": [],
   "source": [
    "import pandas as pd\n",
    "import numpy as np\n",
    "df = pd.read_csv(\"authorsCSV.csv\", dtype=str).replace({np.nan: None})"
   ]
  },
  {
   "cell_type": "code",
   "execution_count": null,
   "metadata": {
    "id": "GnPqjg3ZjOvx"
   },
   "outputs": [],
   "source": [
    "coauthor_lists = list()\n",
    "distinct_authors = set()\n",
    "for _, row in df.iterrows():\n",
    "    coauthors = list()\n",
    "    for col in [\"Author1\", \"Author2\", \"Author3\", \"Author4\", \"Author5\"]:\n",
    "        if row[col] and row[col].strip() != ',':\n",
    "            distinct_authors.add(row[col].strip())\n",
    "            coauthors.append(row[col].strip())\n",
    "    coauthor_lists.append(sorted(coauthors))"
   ]
  },
  {
   "cell_type": "code",
   "execution_count": null,
   "metadata": {
    "id": "W_u2jLZAjtqu"
   },
   "outputs": [],
   "source": [
    "coauthor_matrix = pd.DataFrame(index=sorted(distinct_authors), columns=sorted(distinct_authors))"
   ]
  },
  {
   "cell_type": "code",
   "execution_count": null,
   "metadata": {
    "id": "AOV0vDIBjvJR"
   },
   "outputs": [],
   "source": [
    "for coauthors in coauthor_lists:\n",
    "    for i in range(0, len(coauthors)):\n",
    "        for j in range(i + 1, len(coauthors)):\n",
    "            a1 = coauthors[i]\n",
    "            a2 = coauthors[j]\n",
    "            if pd.isnull(coauthor_matrix[a2][a1]):\n",
    "                coauthor_matrix[a2][a1] = 1\n",
    "            else:\n",
    "                coauthor_matrix[a2][a1] += 1"
   ]
  },
  {
   "cell_type": "code",
   "execution_count": null,
   "metadata": {
    "colab": {
     "base_uri": "https://localhost:8080/"
    },
    "id": "bR5S3qfOm-1m",
    "outputId": "72b57760-df7c-4c0f-d371-08dce788966d"
   },
   "outputs": [],
   "source": [
    "coauthor_matrix.to_csv(\"coauthorMatrix.csv\")"
   ]
  },
  {
   "cell_type": "code",
   "execution_count": null,
   "metadata": {
    "id": "8-8EhsIznJCf"
   },
   "outputs": [],
   "source": []
  }
 ],
 "metadata": {
  "colab": {
   "authorship_tag": "ABX9TyPgqWPMcpc6q8QBFmv2YdZL",
   "name": "authors2matrix.ipynb",
   "provenance": []
  },
  "kernelspec": {
   "display_name": "Python 3 (ipykernel)",
   "language": "python",
   "name": "python3"
  },
  "language_info": {
   "codemirror_mode": {
    "name": "ipython",
    "version": 3
   },
   "file_extension": ".py",
   "mimetype": "text/x-python",
   "name": "python",
   "nbconvert_exporter": "python",
   "pygments_lexer": "ipython3",
   "version": "3.8.5"
  }
 },
 "nbformat": 4,
 "nbformat_minor": 1
}
