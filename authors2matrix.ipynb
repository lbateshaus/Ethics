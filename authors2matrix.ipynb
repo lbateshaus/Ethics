{
  "nbformat": 4,
  "nbformat_minor": 0,
  "metadata": {
    "colab": {
      "name": "authors2matrix.ipynb",
      "provenance": [],
      "authorship_tag": "ABX9TyOND8nS/ONWcqlBbNGt6wEz"
    },
    "kernelspec": {
      "name": "python3",
      "display_name": "Python 3"
    },
    "language_info": {
      "name": "python"
    }
  },
  "cells": [
    {
      "cell_type": "code",
      "execution_count": 30,
      "metadata": {
        "id": "k9dEYHrsb6b4"
      },
      "outputs": [],
      "source": [
        "import pandas as pd\n",
        "import numpy as np\n",
        "df = pd.read_csv(\"https://raw.githubusercontent.com/lbateshaus/Ethics/main/authorsCSV.csv\", dtype=str).dropna()"
      ]
    },
    {
      "cell_type": "code",
      "source": [
        "from pandas.core.dtypes.missing import isna\n",
        "distinct_authors = set()\n",
        "for _, row in df.iterrows():\n",
        "  for col in [\"Author1\", \"Author2\", \"Author3\", \"Author4\", \"Author5\"]:\n",
        "    if row[col]:\n",
        "      distinct_authors.add(row[col].strip())"
      ],
      "metadata": {
        "id": "GnPqjg3ZjOvx"
      },
      "execution_count": 31,
      "outputs": []
    },
    {
      "cell_type": "code",
      "source": [
        "distinct_authors"
      ],
      "metadata": {
        "id": "W_u2jLZAjtqu",
        "outputId": "91908bb4-3056-41e3-c3b7-1d52219d29d0",
        "colab": {
          "base_uri": "https://localhost:8080/"
        }
      },
      "execution_count": 32,
      "outputs": [
        {
          "output_type": "execute_result",
          "data": {
            "text/plain": [
              "{'Andersson, K.',\n",
              " 'Arias, E.',\n",
              " 'Balán, P.',\n",
              " 'Biggers, D. R.',\n",
              " 'Chong, A.',\n",
              " 'Doherty, D.',\n",
              " 'Dowling, C. M.',\n",
              " 'Ekman, J.',\n",
              " 'Farrer, B.',\n",
              " 'Fujiwara, T.',\n",
              " 'Gerber, A. S.',\n",
              " 'Green, D. P.',\n",
              " 'Hendry, D. J.',\n",
              " 'Hill, S. J.',\n",
              " 'Huber, G. A.',\n",
              " 'Krasno, J. S.',\n",
              " 'Larreguy, H.',\n",
              " 'León-Ciliotta, G.',\n",
              " 'Lundin, S.',\n",
              " 'López-Moctezuma, G.',\n",
              " 'Marshall, J.',\n",
              " 'Meredith, M.',\n",
              " 'Panagopoulos, C.',\n",
              " 'Pe Lero, C.',\n",
              " 'Persson, M.',\n",
              " 'Querubín, P.',\n",
              " 'Roza, V.',\n",
              " 'Rubenson, D.',\n",
              " 'Schwam-Baird, M.',\n",
              " 'Valdivia, M.',\n",
              " 'Vega, G.',\n",
              " 'Wantchekon, L.',\n",
              " 'Zetterberg, P.'}"
            ]
          },
          "metadata": {},
          "execution_count": 32
        }
      ]
    },
    {
      "cell_type": "code",
      "source": [
        ""
      ],
      "metadata": {
        "id": "AOV0vDIBjvJR"
      },
      "execution_count": null,
      "outputs": []
    }
  ]
}